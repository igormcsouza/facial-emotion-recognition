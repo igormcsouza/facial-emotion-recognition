{
 "metadata": {
  "language_info": {
   "codemirror_mode": {
    "name": "ipython",
    "version": 3
   },
   "file_extension": ".py",
   "mimetype": "text/x-python",
   "name": "python",
   "nbconvert_exporter": "python",
   "pygments_lexer": "ipython3",
   "version": "3.7.9"
  },
  "orig_nbformat": 2,
  "kernelspec": {
   "name": "python379jvsc74a57bd0edc21921b39be3afc88766e5c93d22883b42d4313baa7984cef400a821776b7c",
   "display_name": "Python 3.7.9 64-bit ('research-zzPJhTd_-py3.7': venv)"
  }
 },
 "nbformat": 4,
 "nbformat_minor": 2,
 "cells": [
  {
   "source": [
    "# Train Models using keras\n",
    "\n",
    "## Dataset\n",
    "\n",
    "If you don't have the dataset ready yet, no worries, uncomment the bash command bellow and run it so the data download and prepare to use Keras Data Preprocessor."
   ],
   "cell_type": "markdown",
   "metadata": {}
  },
  {
   "cell_type": "code",
   "execution_count": 1,
   "metadata": {},
   "outputs": [],
   "source": [
    "import os\n",
    "\n",
    "from tensorflow import keras\n",
    "from tensorflow.keras.preprocessing import image_dataset_from_directory"
   ]
  },
  {
   "cell_type": "code",
   "execution_count": 2,
   "metadata": {},
   "outputs": [],
   "source": [
    "# Download and prepare data (it may take a while, ~250mb)\n",
    "#os.system(\"poetry run python data_preprocessing.py\")"
   ]
  },
  {
   "cell_type": "code",
   "execution_count": 3,
   "metadata": {},
   "outputs": [
    {
     "output_type": "stream",
     "name": "stdout",
     "text": [
      "Found 11490 files belonging to 8 classes.\n"
     ]
    }
   ],
   "source": [
    "train = image_dataset_from_directory(\n",
    "    directory='data/train/',\n",
    "    labels='inferred',\n",
    "    label_mode='categorical',\n",
    "    batch_size=32,\n",
    "    image_size=(256, 256)\n",
    ")"
   ]
  },
  {
   "cell_type": "code",
   "execution_count": 4,
   "metadata": {},
   "outputs": [
    {
     "output_type": "stream",
     "name": "stdout",
     "text": [
      "Found 1272 files belonging to 8 classes.\n"
     ]
    }
   ],
   "source": [
    "val = image_dataset_from_directory(\n",
    "    directory='data/val/',\n",
    "    labels='inferred',\n",
    "    label_mode='categorical',\n",
    "    batch_size=32,\n",
    "    image_size=(256, 256)\n",
    ")"
   ]
  },
  {
   "cell_type": "code",
   "execution_count": 6,
   "metadata": {},
   "outputs": [
    {
     "output_type": "stream",
     "name": "stdout",
     "text": [
      "  1/360 [..............................] - ETA: 5:53:19 - loss: 2.1711"
     ]
    }
   ],
   "source": [
    "model = keras.applications.Xception( \n",
    "    weights=None,\n",
    "    input_shape=(256, 256, 3), \n",
    "    classes=8,\n",
    ")\n",
    "model.compile(optimizer='rmsprop', loss='categorical_crossentropy')\n",
    "model.fit(train, epochs=1, validation_data=val)"
   ]
  },
  {
   "cell_type": "code",
   "execution_count": null,
   "metadata": {},
   "outputs": [],
   "source": []
  }
 ]
}